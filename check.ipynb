{
 "cells": [
  {
   "cell_type": "code",
   "execution_count": 1,
   "metadata": {},
   "outputs": [
    {
     "name": "stderr",
     "output_type": "stream",
     "text": [
      ".c:\\Users\\pwoll\\Desktop\\Python\\TestingCourse\\TestProject\\TestPickle.py:53: DeprecationWarning: Please use assertEqual instead.\n",
      "  self.assertEquals(data, unpickled_data)\n",
      "..............F.F..\n",
      "======================================================================\n",
      "FAIL: test_recursive_class_unchanged (__main__.TestPickle)\n",
      "----------------------------------------------------------------------\n",
      "Traceback (most recent call last):\n",
      "  File \"c:\\Users\\pwoll\\Desktop\\Python\\TestingCourse\\TestProject\\TestPickle.py\", line 125, in test_recursive_class_unchanged\n",
      "    self.assertUnchanged(RecursiveClass())\n",
      "  File \"c:\\Users\\pwoll\\Desktop\\Python\\TestingCourse\\TestProject\\TestPickle.py\", line 53, in assertUnchanged\n",
      "    self.assertEquals(data, unpickled_data)\n",
      "AssertionError: <__main__.RecursiveClass object at 0x0000021FE3BC2350> != <__main__.RecursiveClass object at 0x0000021FE3BC06D0>\n",
      "\n",
      "======================================================================\n",
      "FAIL: test_simple_class_unchanged (__main__.TestPickle)\n",
      "----------------------------------------------------------------------\n",
      "Traceback (most recent call last):\n",
      "  File \"c:\\Users\\pwoll\\Desktop\\Python\\TestingCourse\\TestProject\\TestPickle.py\", line 122, in test_simple_class_unchanged\n",
      "    self.assertUnchanged(SimpleClass(10))\n",
      "  File \"c:\\Users\\pwoll\\Desktop\\Python\\TestingCourse\\TestProject\\TestPickle.py\", line 53, in assertUnchanged\n",
      "    self.assertEquals(data, unpickled_data)\n",
      "AssertionError: <__main__.SimpleClass object at 0x0000021FE3BC2110> != <__main__.SimpleClass object at 0x0000021FE3BC0730>\n",
      "\n",
      "----------------------------------------------------------------------\n",
      "Ran 20 tests in 0.006s\n",
      "\n",
      "FAILED (failures=2)\n"
     ]
    }
   ],
   "source": [
    "!python TestPickle.py"
   ]
  },
  {
   "cell_type": "code",
   "execution_count": 2,
   "metadata": {},
   "outputs": [
    {
     "name": "stderr",
     "output_type": "stream",
     "text": [
      ".c:\\Users\\pwoll\\Desktop\\Python\\TestingCourse\\TestProject\\TestPickle.py:53: DeprecationWarning: Please use assertEqual instead.\n",
      "  self.assertEquals(data, unpickled_data)\n",
      "..............F.F..\n",
      "======================================================================\n",
      "FAIL: test_recursive_class_unchanged (__main__.TestPickle)\n",
      "----------------------------------------------------------------------\n",
      "Traceback (most recent call last):\n",
      "  File \"c:\\Users\\pwoll\\Desktop\\Python\\TestingCourse\\TestProject\\TestPickle.py\", line 125, in test_recursive_class_unchanged\n",
      "    self.assertUnchanged(RecursiveClass())\n",
      "  File \"c:\\Users\\pwoll\\Desktop\\Python\\TestingCourse\\TestProject\\TestPickle.py\", line 53, in assertUnchanged\n",
      "    self.assertEquals(data, unpickled_data)\n",
      "AssertionError: <__main__.RecursiveClass object at 0x000001910F5421D0> != <__main__.RecursiveClass object at 0x000001910F541F30>\n",
      "\n",
      "======================================================================\n",
      "FAIL: test_simple_class_unchanged (__main__.TestPickle)\n",
      "----------------------------------------------------------------------\n",
      "Traceback (most recent call last):\n",
      "  File \"c:\\Users\\pwoll\\Desktop\\Python\\TestingCourse\\TestProject\\TestPickle.py\", line 122, in test_simple_class_unchanged\n",
      "    self.assertUnchanged(SimpleClass(10))\n",
      "  File \"c:\\Users\\pwoll\\Desktop\\Python\\TestingCourse\\TestProject\\TestPickle.py\", line 53, in assertUnchanged\n",
      "    self.assertEquals(data, unpickled_data)\n",
      "AssertionError: <__main__.SimpleClass object at 0x000001910F541CF0> != <__main__.SimpleClass object at 0x000001910F542050>\n",
      "\n",
      "----------------------------------------------------------------------\n",
      "Ran 20 tests in 0.007s\n",
      "\n",
      "FAILED (failures=2)\n"
     ]
    },
    {
     "name": "stdout",
     "output_type": "stream",
     "text": [
      "Name            Stmts   Miss  Cover\n",
      "-----------------------------------\n",
      "TestPickle.py      87      2    98%\n",
      "-----------------------------------\n",
      "TOTAL              87      2    98%\n"
     ]
    }
   ],
   "source": [
    "!coverage run TestPickle.py\n",
    "!coverage report"
   ]
  },
  {
   "cell_type": "code",
   "execution_count": 14,
   "metadata": {},
   "outputs": [
    {
     "name": "stderr",
     "output_type": "stream",
     "text": [
      ".c:\\Users\\pwoll\\Desktop\\Python\\TestingCourse\\TestProject\\TestPickle.py:58: DeprecationWarning: Please use assertEqual instead.\n",
      "  self.assertEquals(data, unpickled_data)\n",
      ".....................\n",
      "----------------------------------------------------------------------\n",
      "Ran 22 tests in 0.005s\n",
      "\n",
      "OK\n"
     ]
    },
    {
     "name": "stdout",
     "output_type": "stream",
     "text": [
      "Name               Stmts   Miss Branch BrPart  Cover   Missing\n",
      "--------------------------------------------------------------\n",
      "TestPickle.py         97      1      4      1    98%   20, 146->exit\n",
      "stolen_pickle.py    1160    834    386      3    21%   46-47, 99, 206-207, 210, 213-215, 218-239, 242-245, 248-260, 266-268, 271-285, 288-298, 301-311, 314-317, 323-333, 337-352, 375-382, 402, 444-464, 474, 480-489, 506-511, 515-523, 527-533, 536-603, 607, 611-618, 625-734, 741, 745-748, 752-779, 783-786, 790-806, 810-821, 824->851, 826-847, 852-871, 875-921, 926-932, 940-963, 966-972, 976, 980-1007, 1010-1030, 1034-1053, 1057-1120, 1123-1129, 1178-1185, 1194-1215, 1219-1222, 1225, 1230-1233, 1237-1240, 1244-1249, 1253-1254, 1258, 1262, 1266, 1270-1277, 1281, 1285, 1289, 1293-1296, 1300-1302, 1306-1311, 1315, 1319, 1326-1329, 1332-1338, 1343-1347, 1351-1355, 1359, 1363-1367, 1371-1375, 1379-1383, 1387-1393, 1397-1404, 1408-1411, 1415-1417, 1421-1422, 1426-1427, 1431-1432, 1436, 1440, 1444, 1448, 1452, 1456, 1460, 1464-1465, 1469-1470, 1474-1477, 1486-1495, 1498-1501, 1506-1508, 1512-1515, 1519-1523, 1527-1530, 1534-1538, 1542-1543, 1547-1548, 1552-1553, 1557-1570, 1574-1584, 1587-1590, 1594-1597, 1601, 1605, 1609-1614, 1618-1623, 1627-1632, 1636-1639, 1643-1646, 1650-1653, 1657-1658, 1662-1665, 1669-1683, 1687-1691, 1695-1698, 1702-1709, 1713-1733, 1737-1739, 1743-1744, 1751, 1755-1760, 1764, 1769-1772, 1788-1790, 1794-1795, 1798-1820\n",
      "--------------------------------------------------------------\n",
      "TOTAL               1257    835    390      4    26%\n"
     ]
    }
   ],
   "source": [
    "!coverage run --branch TestPickle.py\n",
    "!coverage report -m"
   ]
  },
  {
   "cell_type": "code",
   "execution_count": null,
   "metadata": {},
   "outputs": [],
   "source": []
  }
 ],
 "metadata": {
  "kernelspec": {
   "display_name": "Python 3",
   "language": "python",
   "name": "python3"
  },
  "language_info": {
   "codemirror_mode": {
    "name": "ipython",
    "version": 3
   },
   "file_extension": ".py",
   "mimetype": "text/x-python",
   "name": "python",
   "nbconvert_exporter": "python",
   "pygments_lexer": "ipython3",
   "version": "3.10.11"
  },
  "orig_nbformat": 4
 },
 "nbformat": 4,
 "nbformat_minor": 2
}
