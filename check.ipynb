{
 "cells": [
  {
   "cell_type": "code",
   "execution_count": 1,
   "metadata": {},
   "outputs": [
    {
     "name": "stderr",
     "output_type": "stream",
     "text": [
      ".c:\\Users\\pwoll\\Desktop\\Python\\TestingCourse\\TestProject\\TestPickle.py:53: DeprecationWarning: Please use assertEqual instead.\n",
      "  self.assertEquals(data, unpickled_data)\n",
      "..............F.F..\n",
      "======================================================================\n",
      "FAIL: test_recursive_class_unchanged (__main__.TestPickle)\n",
      "----------------------------------------------------------------------\n",
      "Traceback (most recent call last):\n",
      "  File \"c:\\Users\\pwoll\\Desktop\\Python\\TestingCourse\\TestProject\\TestPickle.py\", line 125, in test_recursive_class_unchanged\n",
      "    self.assertUnchanged(RecursiveClass())\n",
      "  File \"c:\\Users\\pwoll\\Desktop\\Python\\TestingCourse\\TestProject\\TestPickle.py\", line 53, in assertUnchanged\n",
      "    self.assertEquals(data, unpickled_data)\n",
      "AssertionError: <__main__.RecursiveClass object at 0x0000021FE3BC2350> != <__main__.RecursiveClass object at 0x0000021FE3BC06D0>\n",
      "\n",
      "======================================================================\n",
      "FAIL: test_simple_class_unchanged (__main__.TestPickle)\n",
      "----------------------------------------------------------------------\n",
      "Traceback (most recent call last):\n",
      "  File \"c:\\Users\\pwoll\\Desktop\\Python\\TestingCourse\\TestProject\\TestPickle.py\", line 122, in test_simple_class_unchanged\n",
      "    self.assertUnchanged(SimpleClass(10))\n",
      "  File \"c:\\Users\\pwoll\\Desktop\\Python\\TestingCourse\\TestProject\\TestPickle.py\", line 53, in assertUnchanged\n",
      "    self.assertEquals(data, unpickled_data)\n",
      "AssertionError: <__main__.SimpleClass object at 0x0000021FE3BC2110> != <__main__.SimpleClass object at 0x0000021FE3BC0730>\n",
      "\n",
      "----------------------------------------------------------------------\n",
      "Ran 20 tests in 0.006s\n",
      "\n",
      "FAILED (failures=2)\n"
     ]
    }
   ],
   "source": [
    "!python TestPickle.py"
   ]
  },
  {
   "cell_type": "code",
   "execution_count": 2,
   "metadata": {},
   "outputs": [
    {
     "name": "stderr",
     "output_type": "stream",
     "text": [
      ".c:\\Users\\pwoll\\Desktop\\Python\\TestingCourse\\TestProject\\TestPickle.py:53: DeprecationWarning: Please use assertEqual instead.\n",
      "  self.assertEquals(data, unpickled_data)\n",
      "..............F.F..\n",
      "======================================================================\n",
      "FAIL: test_recursive_class_unchanged (__main__.TestPickle)\n",
      "----------------------------------------------------------------------\n",
      "Traceback (most recent call last):\n",
      "  File \"c:\\Users\\pwoll\\Desktop\\Python\\TestingCourse\\TestProject\\TestPickle.py\", line 125, in test_recursive_class_unchanged\n",
      "    self.assertUnchanged(RecursiveClass())\n",
      "  File \"c:\\Users\\pwoll\\Desktop\\Python\\TestingCourse\\TestProject\\TestPickle.py\", line 53, in assertUnchanged\n",
      "    self.assertEquals(data, unpickled_data)\n",
      "AssertionError: <__main__.RecursiveClass object at 0x000001910F5421D0> != <__main__.RecursiveClass object at 0x000001910F541F30>\n",
      "\n",
      "======================================================================\n",
      "FAIL: test_simple_class_unchanged (__main__.TestPickle)\n",
      "----------------------------------------------------------------------\n",
      "Traceback (most recent call last):\n",
      "  File \"c:\\Users\\pwoll\\Desktop\\Python\\TestingCourse\\TestProject\\TestPickle.py\", line 122, in test_simple_class_unchanged\n",
      "    self.assertUnchanged(SimpleClass(10))\n",
      "  File \"c:\\Users\\pwoll\\Desktop\\Python\\TestingCourse\\TestProject\\TestPickle.py\", line 53, in assertUnchanged\n",
      "    self.assertEquals(data, unpickled_data)\n",
      "AssertionError: <__main__.SimpleClass object at 0x000001910F541CF0> != <__main__.SimpleClass object at 0x000001910F542050>\n",
      "\n",
      "----------------------------------------------------------------------\n",
      "Ran 20 tests in 0.007s\n",
      "\n",
      "FAILED (failures=2)\n"
     ]
    },
    {
     "name": "stdout",
     "output_type": "stream",
     "text": [
      "Name            Stmts   Miss  Cover\n",
      "-----------------------------------\n",
      "TestPickle.py      87      2    98%\n",
      "-----------------------------------\n",
      "TOTAL              87      2    98%\n"
     ]
    }
   ],
   "source": [
    "!coverage run TestPickle.py\n",
    "!coverage report"
   ]
  },
  {
   "cell_type": "code",
   "execution_count": 3,
   "metadata": {},
   "outputs": [
    {
     "name": "stderr",
     "output_type": "stream",
     "text": [
      ".c:\\Users\\pwoll\\Desktop\\Python\\TestingCourse\\TestProject\\TestPickle.py:53: DeprecationWarning: Please use assertEqual instead.\n",
      "  self.assertEquals(data, unpickled_data)\n",
      "..............F.F..\n",
      "======================================================================\n",
      "FAIL: test_recursive_class_unchanged (__main__.TestPickle)\n",
      "----------------------------------------------------------------------\n",
      "Traceback (most recent call last):\n",
      "  File \"c:\\Users\\pwoll\\Desktop\\Python\\TestingCourse\\TestProject\\TestPickle.py\", line 125, in test_recursive_class_unchanged\n",
      "    self.assertUnchanged(RecursiveClass())\n",
      "  File \"c:\\Users\\pwoll\\Desktop\\Python\\TestingCourse\\TestProject\\TestPickle.py\", line 53, in assertUnchanged\n",
      "    self.assertEquals(data, unpickled_data)\n",
      "AssertionError: <__main__.RecursiveClass object at 0x0000012C0D542200> != <__main__.RecursiveClass object at 0x0000012C0D541F60>\n",
      "\n",
      "======================================================================\n",
      "FAIL: test_simple_class_unchanged (__main__.TestPickle)\n",
      "----------------------------------------------------------------------\n",
      "Traceback (most recent call last):\n",
      "  File \"c:\\Users\\pwoll\\Desktop\\Python\\TestingCourse\\TestProject\\TestPickle.py\", line 122, in test_simple_class_unchanged\n",
      "    self.assertUnchanged(SimpleClass(10))\n",
      "  File \"c:\\Users\\pwoll\\Desktop\\Python\\TestingCourse\\TestProject\\TestPickle.py\", line 53, in assertUnchanged\n",
      "    self.assertEquals(data, unpickled_data)\n",
      "AssertionError: <__main__.SimpleClass object at 0x0000012C0D541D20> != <__main__.SimpleClass object at 0x0000012C0D541A80>\n",
      "\n",
      "----------------------------------------------------------------------\n",
      "Ran 20 tests in 0.007s\n",
      "\n",
      "FAILED (failures=2)\n"
     ]
    },
    {
     "name": "stdout",
     "output_type": "stream",
     "text": [
      "Name            Stmts   Miss Branch BrPart  Cover   Missing\n",
      "-----------------------------------------------------------\n",
      "TestPickle.py      87      2      4      1    97%   12, 15, 127->exit\n",
      "-----------------------------------------------------------\n",
      "TOTAL              87      2      4      1    97%\n"
     ]
    }
   ],
   "source": [
    "!coverage run --branch TestPickle.py\n",
    "!coverage report -m"
   ]
  }
 ],
 "metadata": {
  "kernelspec": {
   "display_name": "Python 3",
   "language": "python",
   "name": "python3"
  },
  "language_info": {
   "codemirror_mode": {
    "name": "ipython",
    "version": 3
   },
   "file_extension": ".py",
   "mimetype": "text/x-python",
   "name": "python",
   "nbconvert_exporter": "python",
   "pygments_lexer": "ipython3",
   "version": "3.9.13"
  },
  "orig_nbformat": 4
 },
 "nbformat": 4,
 "nbformat_minor": 2
}
