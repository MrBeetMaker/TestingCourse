{
 "cells": [
  {
   "cell_type": "code",
   "execution_count": 1,
   "metadata": {},
   "outputs": [
    {
     "name": "stderr",
     "output_type": "stream",
     "text": [
      ".c:\\Users\\amina\\Arbete\\Universitet\\PA1465_testning_av_mjukvara\\project\\TestingCourse\\TestPickle.py:61: DeprecationWarning: Please use assertEqual instead.\n",
      "  self.assertEquals(data, unpickled_data)\n",
      ".....................\n",
      "----------------------------------------------------------------------\n",
      "Ran 22 tests in 0.009s\n",
      "\n",
      "OK\n"
     ]
    }
   ],
   "source": [
    "!python TestPickle.py"
   ]
  },
  {
   "cell_type": "code",
   "execution_count": 3,
   "metadata": {},
   "outputs": [
    {
     "name": "stdout",
     "output_type": "stream",
     "text": [
      "\n",
      "Output file: results_Windows_10_10.0.22631_3.11.9.csv.\n",
      "\n",
      "Note: Content will be appended.\n",
      "\n"
     ]
    },
    {
     "name": "stderr",
     "output_type": "stream",
     "text": [
      "Traceback (most recent call last):\n",
      "  File \"c:\\Users\\amina\\Arbete\\Universitet\\PA1465_testning_av_mjukvara\\project\\TestingCourse\\test_pickle.py\", line 274, in <module>\n",
      "    test = TestPickle()\n",
      "           ^^^^^^^^^^^^\n",
      "  File \"c:\\Users\\amina\\Arbete\\Universitet\\PA1465_testning_av_mjukvara\\project\\TestingCourse\\test_pickle.py\", line 63, in __init__\n",
      "    for i, pair in enumerate(self._test_case_map + (\"\", 9) * 3)}\n",
      "                             ~~~~~~~~~~~~~~~~~~~~^~~~~~~~~~~~~\n",
      "TypeError: can only concatenate list (not \"tuple\") to list\n"
     ]
    },
    {
     "name": "stdout",
     "output_type": "stream",
     "text": [
      "Name             Stmts   Miss  Cover\n",
      "------------------------------------\n",
      "test_pickle.py     147    117    20%\n",
      "------------------------------------\n",
      "TOTAL              147    117    20%\n"
     ]
    }
   ],
   "source": [
    "!coverage run test_pickle.py\n",
    "!coverage report"
   ]
  },
  {
   "cell_type": "code",
   "execution_count": 4,
   "metadata": {},
   "outputs": [
    {
     "name": "stdout",
     "output_type": "stream",
     "text": [
      "\n",
      "Output file: results_Windows_10_10.0.22631_3.11.9.csv.\n",
      "\n",
      "Note: Content will be appended.\n",
      "\n"
     ]
    },
    {
     "name": "stderr",
     "output_type": "stream",
     "text": [
      "Traceback (most recent call last):\n",
      "  File \"c:\\Users\\amina\\Arbete\\Universitet\\PA1465_testning_av_mjukvara\\project\\TestingCourse\\test_pickle.py\", line 274, in <module>\n",
      "    test = TestPickle()\n",
      "           ^^^^^^^^^^^^\n",
      "  File \"c:\\Users\\amina\\Arbete\\Universitet\\PA1465_testning_av_mjukvara\\project\\TestingCourse\\test_pickle.py\", line 63, in __init__\n",
      "    for i, pair in enumerate(self._test_case_map + (\"\", 9) * 3)}\n",
      "                             ~~~~~~~~~~~~~~~~~~~~^~~~~~~~~~~~~\n",
      "TypeError: can only concatenate list (not \"tuple\") to list\n"
     ]
    },
    {
     "name": "stdout",
     "output_type": "stream",
     "text": [
      "Name             Stmts   Miss Branch BrPart  Cover   Missing\n",
      "------------------------------------------------------------\n",
      "test_pickle.py     147    117     72      2    16%   62->exit, 67-109, 113-114, 120-123, 127-130, 133-143, 148-162, 167-189, 193-217, 223-232, 236-270, 273->exit, 275-277\n",
      "------------------------------------------------------------\n",
      "TOTAL              147    117     72      2    16%\n"
     ]
    }
   ],
   "source": [
    "!coverage run --branch test_pickle.py\n",
    "!coverage report -m"
   ]
  },
  {
   "cell_type": "code",
   "execution_count": null,
   "metadata": {},
   "outputs": [],
   "source": []
  }
 ],
 "metadata": {
  "kernelspec": {
   "display_name": "Python 3",
   "language": "python",
   "name": "python3"
  },
  "language_info": {
   "codemirror_mode": {
    "name": "ipython",
    "version": 3
   },
   "file_extension": ".py",
   "mimetype": "text/x-python",
   "name": "python",
   "nbconvert_exporter": "python",
   "pygments_lexer": "ipython3",
   "version": "3.11.9"
  },
  "orig_nbformat": 4
 },
 "nbformat": 4,
 "nbformat_minor": 2
}
